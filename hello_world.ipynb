{
  "nbformat": 4,
  "nbformat_minor": 0,
  "metadata": {
    "colab": {
      "provenance": [],
      "authorship_tag": "ABX9TyM0BQ11ONo5znzsSZRzMlV4",
      "include_colab_link": true
    },
    "kernelspec": {
      "name": "python3",
      "display_name": "Python 3"
    },
    "language_info": {
      "name": "python"
    }
  },
  "cells": [
    {
      "cell_type": "markdown",
      "metadata": {
        "id": "view-in-github",
        "colab_type": "text"
      },
      "source": [
        "<a href=\"https://colab.research.google.com/github/rd12378/PythonUPIIC-Ramiro-Gerardo-Davila-Joch/blob/main/hello_world.ipynb\" target=\"_parent\"><img src=\"https://colab.research.google.com/assets/colab-badge.svg\" alt=\"Open In Colab\"/></a>"
      ]
    },
    {
      "cell_type": "markdown",
      "source": [
        "# Mi primer código de Python"
      ],
      "metadata": {
        "id": "DIgvWw0LPz-V"
      }
    },
    {
      "cell_type": "code",
      "execution_count": null,
      "metadata": {
        "colab": {
          "base_uri": "https://localhost:8080/"
        },
        "id": "oYQ-UzQHPrUt",
        "outputId": "cc0aa567-3e9c-4d2d-d245-15ee8d73b224"
      },
      "outputs": [
        {
          "output_type": "stream",
          "name": "stdout",
          "text": [
            "Hello, World!\n"
          ]
        }
      ],
      "source": [
        "# En python podemos usar comilla doble\n",
        "# para crear un string o cadena de car./texto.\n",
        "\n",
        "print(\"Hello, World!\")"
      ]
    },
    {
      "cell_type": "code",
      "source": [
        "# También podemos usar comilla sencilla\n",
        "# para crear un string o cadena de car./texto.\n",
        "\n",
        "print('Hello, World!')"
      ],
      "metadata": {
        "id": "X28iJ7MdP4SO"
      },
      "execution_count": null,
      "outputs": []
    },
    {
      "cell_type": "code",
      "source": [
        "# Aunque no es necesario usar el print en colab\n",
        "# para mostrar el resultado.\n",
        "\n",
        "\"Hello, World!\"\n",
        "\n",
        "# Util cuando desarrollamos o queremos ver un resultado rapido.\n",
        "# Pero, como buena práctica hay que usar siempre la\n",
        "# función print para mostrar un resultado"
      ],
      "metadata": {
        "colab": {
          "base_uri": "https://localhost:8080/",
          "height": 36
        },
        "id": "UMeJe2xfSrRj",
        "outputId": "ad9e9b00-a4c3-4e4b-e012-aec504fa198e"
      },
      "execution_count": 1,
      "outputs": [
        {
          "output_type": "execute_result",
          "data": {
            "text/plain": [
              "'Hello, World!'"
            ],
            "application/vnd.google.colaboratory.intrinsic+json": {
              "type": "string"
            }
          },
          "metadata": {},
          "execution_count": 1
        }
      ]
    },
    {
      "cell_type": "markdown",
      "source": [
        "# Introducción"
      ],
      "metadata": {
        "id": "-AJjfZ8xXTC4"
      }
    },
    {
      "cell_type": "markdown",
      "source": [
        "# 1.1 Zen de Python"
      ],
      "metadata": {
        "id": "26MsHZvcXkhD"
      }
    },
    {
      "cell_type": "code",
      "source": [
        "import this"
      ],
      "metadata": {
        "colab": {
          "base_uri": "https://localhost:8080/"
        },
        "id": "RMbcpJLvXp12",
        "outputId": "0ab3da83-2a4f-40bc-f47a-35266530e82c"
      },
      "execution_count": 2,
      "outputs": [
        {
          "output_type": "stream",
          "name": "stdout",
          "text": [
            "The Zen of Python, by Tim Peters\n",
            "\n",
            "Beautiful is better than ugly.\n",
            "Explicit is better than implicit.\n",
            "Simple is better than complex.\n",
            "Complex is better than complicated.\n",
            "Flat is better than nested.\n",
            "Sparse is better than dense.\n",
            "Readability counts.\n",
            "Special cases aren't special enough to break the rules.\n",
            "Although practicality beats purity.\n",
            "Errors should never pass silently.\n",
            "Unless explicitly silenced.\n",
            "In the face of ambiguity, refuse the temptation to guess.\n",
            "There should be one-- and preferably only one --obvious way to do it.\n",
            "Although that way may not be obvious at first unless you're Dutch.\n",
            "Now is better than never.\n",
            "Although never is often better than *right* now.\n",
            "If the implementation is hard to explain, it's a bad idea.\n",
            "If the implementation is easy to explain, it may be a good idea.\n",
            "Namespaces are one honking great idea -- let's do more of those!\n"
          ]
        }
      ]
    },
    {
      "cell_type": "markdown",
      "source": [
        "# Depuración\n",
        "\n",
        "- encontrar y deshacerse de bugs y errores\n",
        "- mientras humanos escriban códigos, siempre habrá errores en el programa.\n",
        "- aunque a veces es frustrante, es una de las partes intelectualmente más ricas, desafiantes e interesantes de la programación."
      ],
      "metadata": {
        "id": "kgPidCctYXtY"
      }
    },
    {
      "cell_type": "markdown",
      "source": [
        "# 1.9 Ejercicios\n",
        "\n",
        "**1. Escribe un guión de hola mundo**\n",
        "\n",
        "- Escriba un script de python que imprima \"Hello World!\" como salida en la consola de Colab.\n",
        "- publicarlo en GitHub."
      ],
      "metadata": {
        "id": "pRgE-_T5Y3o-"
      }
    }
  ]
}