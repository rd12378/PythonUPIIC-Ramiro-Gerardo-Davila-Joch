{
  "nbformat": 4,
  "nbformat_minor": 0,
  "metadata": {
    "colab": {
      "provenance": [],
      "authorship_tag": "ABX9TyPChhagVcwCEn3EFazmBPsT",
      "include_colab_link": true
    },
    "kernelspec": {
      "name": "python3",
      "display_name": "Python 3"
    },
    "language_info": {
      "name": "python"
    }
  },
  "cells": [
    {
      "cell_type": "markdown",
      "metadata": {
        "id": "view-in-github",
        "colab_type": "text"
      },
      "source": [
        "<a href=\"https://colab.research.google.com/github/rd12378/PythonUPIIC-Ramiro-Gerardo-Davila-Joch/blob/main/hello_world.ipynb\" target=\"_parent\"><img src=\"https://colab.research.google.com/assets/colab-badge.svg\" alt=\"Open In Colab\"/></a>"
      ]
    },
    {
      "cell_type": "markdown",
      "source": [
        "# Mi primer código de Python"
      ],
      "metadata": {
        "id": "DIgvWw0LPz-V"
      }
    },
    {
      "cell_type": "code",
      "execution_count": null,
      "metadata": {
        "colab": {
          "base_uri": "https://localhost:8080/"
        },
        "id": "oYQ-UzQHPrUt",
        "outputId": "cc0aa567-3e9c-4d2d-d245-15ee8d73b224"
      },
      "outputs": [
        {
          "output_type": "stream",
          "name": "stdout",
          "text": [
            "Hello, World!\n"
          ]
        }
      ],
      "source": [
        "# En python podemos usar comilla doble\n",
        "# para crear un string o cadena de car./texto.\n",
        "\n",
        "print(\"Hello, World!\")"
      ]
    },
    {
      "cell_type": "code",
      "source": [
        "# También podemos usar comilla sencilla\n",
        "# para crear un string o cadena de car./texto.\n",
        "\n",
        "print('Hello, World!')"
      ],
      "metadata": {
        "id": "X28iJ7MdP4SO"
      },
      "execution_count": null,
      "outputs": []
    },
    {
      "cell_type": "code",
      "source": [
        "# Aunque no es necesario usar el print en colab\n",
        "# para mostrar el resultado.\n",
        "\n",
        "\"Hello, World!\"\n",
        "\n",
        "# Util cuando desarrollamos o queremos ver un resultado rapido.\n",
        "# Pero, como buena práctica hay que usar siempre la\n",
        "# función print para mostrar un resultado"
      ],
      "metadata": {
        "id": "UMeJe2xfSrRj",
        "outputId": "ad9e9b00-a4c3-4e4b-e012-aec504fa198e",
        "colab": {
          "base_uri": "https://localhost:8080/",
          "height": 36
        }
      },
      "execution_count": 1,
      "outputs": [
        {
          "output_type": "execute_result",
          "data": {
            "text/plain": [
              "'Hello, World!'"
            ],
            "application/vnd.google.colaboratory.intrinsic+json": {
              "type": "string"
            }
          },
          "metadata": {},
          "execution_count": 1
        }
      ]
    }
  ]
}