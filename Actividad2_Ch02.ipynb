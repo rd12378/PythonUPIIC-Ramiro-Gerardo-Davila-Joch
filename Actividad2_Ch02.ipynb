{
  "nbformat": 4,
  "nbformat_minor": 0,
  "metadata": {
    "colab": {
      "provenance": [],
      "authorship_tag": "ABX9TyNVGk7ykpJ/b3nZwYyG2K8V",
      "include_colab_link": true
    },
    "kernelspec": {
      "name": "python3",
      "display_name": "Python 3"
    },
    "language_info": {
      "name": "python"
    }
  },
  "cells": [
    {
      "cell_type": "markdown",
      "metadata": {
        "id": "view-in-github",
        "colab_type": "text"
      },
      "source": [
        "<a href=\"https://colab.research.google.com/github/rd12378/PythonUPIIC-Ramiro-Gerardo-Davila-Joch/blob/main/Actividad2_Ch02.ipynb\" target=\"_parent\"><img src=\"https://colab.research.google.com/assets/colab-badge.svg\" alt=\"Open In Colab\"/></a>"
      ]
    },
    {
      "cell_type": "markdown",
      "source": [
        "# **Actividad 2 _ Ch02**\n",
        "\n",
        "_Calcular área y circunferencia de un círculo_\n",
        "\n",
        "---\n",
        "\n",
        "Autor: Ramiro Gerardo Dávila Joch\n",
        "\n",
        "Curso: Python de Básico a Intermedio\n",
        "\n",
        "\n",
        " (subido 18/07/2023)\n",
        "\n",
        "---"
      ],
      "metadata": {
        "id": "j3kz7VE4oqeo"
      }
    },
    {
      "cell_type": "code",
      "execution_count": 19,
      "metadata": {
        "colab": {
          "base_uri": "https://localhost:8080/"
        },
        "id": "xkpnMNYhodi_",
        "outputId": "89cf9b16-d053-462b-f4c9-5bdfb8fcfcd0"
      },
      "outputs": [
        {
          "output_type": "stream",
          "name": "stdout",
          "text": [
            "Introduce el valor del radio del círculo (mayor a 0): 5.68\n",
            "El valor introducido para el radio es:   5.68  unidades.\n",
            "\n",
            "El perímetro del círculo es:  35.6884624  unidades.\n",
            "El área del círculo es:  101.35523321599999 unidades cuadradas.\n"
          ]
        }
      ],
      "source": [
        "# Escribir un script de python que calcule el área y la circunferencia de un círculo\n",
        "# el área de un círculo se calcula usando la ecuación: πr2\n",
        "# el perímetro de un círculo se calcula usando la ecuación: 2πr\n",
        "# puedes usar π=3.14159\n",
        "\n",
        "radio = float(input(\"Introduce el valor del radio del círculo (mayor a 0): \"))\n",
        "print(\"El valor introducido para el radio es:  \", radio, \" unidades.\")\n",
        "\n",
        "pi = 3.14159\n",
        "perimetro = pi*radio*2\n",
        "area = pi*radio**2\n",
        "\n",
        "print(\"\\nEl perímetro del círculo es: \", perimetro, \" unidades.\")\n",
        "print(\"El área del círculo es: \", area, \"unidades cuadradas.\")"
      ]
    }
  ]
}